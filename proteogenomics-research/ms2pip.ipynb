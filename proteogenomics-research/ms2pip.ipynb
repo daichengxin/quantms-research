{
 "cells": [
  {
   "cell_type": "code",
   "execution_count": 11,
   "id": "ce1c58d9-b8dc-4715-bbb8-d68e5002e667",
   "metadata": {
    "pycharm": {
     "name": "#%%\n"
    }
   },
   "outputs": [],
   "source": [
    "%matplotlib inline\n",
    "import matplotlib.pyplot as plt\n",
    "from ms2pip.ms2pipC import MS2PIP\n",
    "import os\n",
    "import re\n",
    "import pandas as pd\n",
    "import numpy as np\n",
    "from scipy.stats import rankdata, scoreatpercentile\n",
    "from pyteomics import parser, fasta"
   ]
  },
  {
   "cell_type": "code",
   "execution_count": 2,
   "id": "7d5ce344-3bca-4b85-abc9-72cf8c3442ca",
   "metadata": {
    "pycharm": {
     "name": "#%%\n"
    }
   },
   "outputs": [],
   "source": [
    "CELL_LINES = ['82', 'P', 'KOR', 'KIS']\n",
    "REPS = ['1', '2', '3']\n",
    "BASE_DIR = '/home/lab006/Splicing_2021/Search_Results_RefSeq/fragpipe/'\n",
    "MGF_DIR = '/home/lab006/Data/External/Melanoma/Chernobrovkin_012017/msconvert-mgf'"
   ]
  },
  {
   "cell_type": "code",
   "execution_count": 3,
   "id": "6d131e5a-c750-4d2d-8ed8-d2fcceaee1da",
   "metadata": {
    "pycharm": {
     "name": "#%%\n"
    }
   },
   "outputs": [],
   "source": [
    "modmap = {'57.0215': 'Carbamidomethyl', '27.9949': 'Formyl'}\n",
    "def transform_mods(s):\n",
    "    mods = []\n",
    "    if pd.isnull(s):\n",
    "        return '-'\n",
    "    for part in s.split(', '):\n",
    "        aa, mass = re.match(r'((?:\\d+[A-Z])|(?:[NC]-term))\\((\\d+\\.\\d+)\\)', part).groups()\n",
    "        if aa == 'N-term':\n",
    "            loc = 0\n",
    "        elif aa == 'C-term':\n",
    "            loc = -1\n",
    "        else:\n",
    "            loc = int(aa[:-1])\n",
    "        mods.append((loc, modmap[mass]))\n",
    "    mods.sort()      \n",
    "    return '|'.join(f'{location}|{name}' for location, name in mods)\n",
    "\n",
    "params = {\n",
    "     \"ms2pip\": {\n",
    "         \"ptm\": [\n",
    "             # \"Oxidation,15.994915,opt,M\",\n",
    "             \"Carbamidomethyl,57.021464,opt,C\",\n",
    "             \"Formyl,27.9949,opt,N-term\",\n",
    "         ],\n",
    "         \"frag_method\": \"HCD\",\n",
    "         \"frag_error\": 0.01,\n",
    "         \"out\": \"csv\",\n",
    "         \"sptm\": [], \"gptm\": [],\n",
    "     }\n",
    "}"
   ]
  },
  {
   "cell_type": "code",
   "execution_count": 4,
   "id": "fabced3a-e5c9-418a-a70d-0e37dbb081a5",
   "metadata": {
    "pycharm": {
     "name": "#%%\n"
    }
   },
   "outputs": [],
   "source": [
    "psms_all = {}\n",
    "for cl in CELL_LINES:\n",
    "    for rep in REPS:\n",
    "        psms = pd.read_table(os.path.join(BASE_DIR, f'{cl}_{rep}', 'psm.tsv'))\n",
    "        psms['modifications'] = psms['Assigned Modifications'].apply(transform_mods)\n",
    "        psms['spec_id'] = psms['Spectrum'].str.replace(r'\\.0+', r'.', regex=True)\n",
    "    \n",
    "        # print(psms['Peptide'].apply(lambda s: len(denormalize.get(s, [s])) > 1).sum())\n",
    "        # psms['Peptide'] = psms['Peptide'].apply(lambda s: denormalize.get(s, [s])[0])\n",
    "        \n",
    "        psms_all[(cl, rep)] = psms\n",
    "\n",
    "psms = pd.concat(psms_all.values())"
   ]
  },
  {
   "cell_type": "code",
   "execution_count": 6,
   "id": "c53036a6-640b-4dbf-94e9-799cc6e602e8",
   "metadata": {
    "pycharm": {
     "name": "#%%\n"
    }
   },
   "outputs": [
    {
     "name": "stdout",
     "output_type": "stream",
     "text": [
      "(2)500 (4)500 (6)500 (11)500 (0)500 (1)500 (3)500 (8)500 (9)500 (7)500 (10)500 (5)500 (1)1000 (6)1000 (4)1000 (2)1000 (10)1000 (11)1000 (3)1000 (5)1000 (7)1000 (0)1000 (9)1000 (8)1000 (1)1500 (7)1500 (6)1500 (4)1500 (2)1500 (11)1500 (3)1500 (10)1500 (9)1500 (0)1500 (5)1500 (8)1500 (4)2000 (6)2000 (2)2000 (10)2000 (7)2000 (1)2000 (9)2000 (11)2000 (0)2000 (3)2000 (5)2000 (8)2000 \n",
      "MS2PIP done for 82 (1)\n",
      "(8)500 (6)500 (11)500 (9)500 (3)500 (10)500 (7)500 (0)500 (5)500 (2)500 (1)500 (4)500 (6)1000 (9)1000 (8)1000 (11)1000 (7)1000 (10)1000 (2)1000 (1)1000 (0)1000 (5)1000 (3)1000 (4)1000 (6)1500 (8)1500 (11)1500 (9)1500 (7)1500 (2)1500 (5)1500 (0)1500 (1)1500 (10)1500 (4)1500 (3)1500 (6)2000 (7)2000 (9)2000 (10)2000 (8)2000 (11)2000 (5)2000 (2)2000 (0)2000 (4)2000 (1)2000 (3)2000 \n",
      "MS2PIP done for 82 (2)\n",
      "(2)500 (8)500 (11)500 (10)500 (7)500 (5)500 (4)500 (3)500 (9)500 (1)500 (6)500 (0)500 (2)1000 (11)1000 (4)1000 (7)1000 (3)1000 (8)1000 (10)1000 (9)1000 (5)1000 (0)1000 (1)1000 (6)1000 (2)1500 (11)1500 (4)1500 (8)1500 (3)1500 (7)1500 (0)1500 (5)1500 (9)1500 (10)1500 (1)1500 (6)1500 (11)2000 (4)2000 (2)2000 (3)2000 (8)2000 (7)2000 (0)2000 (10)2000 (9)2000 (5)2000 (1)2000 (6)2000 \n",
      "MS2PIP done for 82 (3)\n",
      "(5)500 (7)500 (3)500 (1)500 (6)500 (10)500 (4)500 (8)500 (0)500 (2)500 (11)500 (9)500 (5)1000 (3)1000 (7)1000 (1)1000 (10)1000 (8)1000 (4)1000 (6)1000 (0)1000 (11)1000 (2)1000 (9)1000 (1)1500 (5)1500 (3)1500 (7)1500 (10)1500 (0)1500 (11)1500 (2)1500 (8)1500 (6)1500 (4)1500 (9)1500 (3)2000 (5)2000 (7)2000 (1)2000 (10)2000 (11)2000 (2)2000 (0)2000 (8)2000 (6)2000 (4)2000 (9)2000 \n",
      "MS2PIP done for P (1)\n",
      "(1)500 (3)500 (4)500 (0)500 (7)500 (5)500 (2)500 (10)500 (9)500 (11)500 (6)500 (8)500 (4)1000 (1)1000 (3)1000 (2)1000 (0)1000 (10)1000 (5)1000 (7)1000 (11)1000 (9)1000 (6)1000 (8)1000 (4)1500 (1)1500 (2)1500 (7)1500 (10)1500 (3)1500 (0)1500 (11)1500 (9)1500 (5)1500 (6)1500 (8)1500 \n",
      "MS2PIP done for P (2)\n",
      "(0)500 (6)500 (3)500 (1)500 (9)500 (7)500 (10)500 (8)500 (2)500 (4)500 (5)500 (11)500 (1)1000 (2)1000 (3)1000 (6)1000 (8)1000 (0)1000 (9)1000 (5)1000 (4)1000 (10)1000 (7)1000 (11)1000 (1)1500 (8)1500 (9)1500 (0)1500 (3)1500 (2)1500 (5)1500 (4)1500 (10)1500 (6)1500 (7)1500 (11)1500 \n",
      "MS2PIP done for P (3)\n",
      "(9)500 (0)500 (4)500 (11)500 (1)500 (2)500 (6)500 (5)500 (10)500 (8)500 (7)500 (3)500 (9)1000 (0)1000 (11)1000 (4)1000 (6)1000 (2)1000 (1)1000 (8)1000 (10)1000 (7)1000 (5)1000 (3)1000 (9)1500 (4)1500 (10)1500 (6)1500 (0)1500 (8)1500 (11)1500 (2)1500 (3)1500 (1)1500 (5)1500 (7)1500 \n",
      "MS2PIP done for KOR (1)\n",
      "(1)500 (3)500 (0)500 (5)500 (6)500 (9)500 (4)500 (2)500 (7)500 (8)500 (11)500 (10)500 (3)1000 (4)1000 (1)1000 (5)1000 (9)1000 (6)1000 (0)1000 (2)1000 (7)1000 (8)1000 (11)1000 (10)1000 (5)1500 (3)1500 (9)1500 (4)1500 (6)1500 (1)1500 (2)1500 (7)1500 (8)1500 (0)1500 (11)1500 (10)1500 (5)2000 (7)2000 (1)2000 (6)2000 (2)2000 (3)2000 (11)2000 (10)2000 \n",
      "MS2PIP done for KOR (2)\n",
      "(4)500 (8)500 (0)500 (9)500 (1)500 (2)500 (7)500 (10)500 (6)500 (11)500 (5)500 (3)500 (8)1000 (0)1000 (4)1000 (9)1000 (7)1000 (2)1000 (3)1000 (10)1000 (11)1000 (1)1000 (6)1000 (5)1000 (4)1500 (11)1500 (7)1500 (0)1500 (8)1500 (9)1500 (2)1500 (10)1500 (6)1500 (1)1500 (3)1500 (5)1500 \n",
      "MS2PIP done for KOR (3)\n",
      "(3)500 (5)500 (0)500 (8)500 (7)500 (2)500 (6)500 (4)500 (9)500 (10)500 (1)500 (11)500 (3)1000 (10)1000 (6)1000 (4)1000 (5)1000 (0)1000 (8)1000 (2)1000 (11)1000 (7)1000 (9)1000 (1)1000 (6)1500 (11)1500 (5)1500 (3)1500 (4)1500 (10)1500 (0)1500 (8)1500 (7)1500 (2)1500 (9)1500 (1)1500 \n",
      "MS2PIP done for KIS (1)\n",
      "(1)500 (6)500 (8)500 (5)500 (3)500 (9)500 (7)500 (10)500 (2)500 (0)500 (11)500 (4)500 (1)1000 (6)1000 (8)1000 (9)1000 (3)1000 (2)1000 (4)1000 (5)1000 (0)1000 (7)1000 (10)1000 (11)1000 (8)1500 (6)1500 (0)1500 (1)1500 (9)1500 (2)1500 (5)1500 (7)1500 (4)1500 (3)1500 (10)1500 (11)1500 \n",
      "MS2PIP done for KIS (2)\n",
      "(4)500 (2)500 (6)500 (10)500 (5)500 (1)500 (8)500 (3)500 (11)500 (9)500 (7)500 (0)500 (2)1000 (11)1000 (1)1000 (10)1000 (8)1000 (4)1000 (3)1000 (5)1000 (0)1000 (6)1000 (9)1000 (7)1000 (2)1500 (4)1500 (1)1500 (8)1500 (10)1500 (11)1500 (0)1500 (7)1500 (5)1500 (9)1500 (6)1500 (3)1500 \n",
      "MS2PIP done for KIS (3)\n"
     ]
    }
   ],
   "source": [
    "for (cl, rep), psm in psms_all.items():\n",
    "    ms2pip_input = psm[['spec_id', 'modifications', 'Peptide', 'Charge']].rename(columns={'Peptide': 'peptide', 'Charge': 'charge'})\n",
    "    fbase = ms2pip_input.loc[0, 'spec_id'].rsplit('_', 2)[0]\n",
    "    spec_file = os.path.join(MGF_DIR, f'{fbase}_{cl}_{rep}.mgf')\n",
    "    ms2pip = MS2PIP(ms2pip_input, spec_file=spec_file,\n",
    "                params=params, num_cpu=12, compute_correlations=True, output_filename=f'ms2pip_out_refseq_{cl}_{rep}')\n",
    "    ms2pip.run()\n",
    "    print(f'MS2PIP done for {cl} ({rep})')"
   ]
  },
  {
   "cell_type": "code",
   "execution_count": 5,
   "id": "9acd0a88-c23e-480a-995c-0ea13e8f2def",
   "metadata": {
    "pycharm": {
     "name": "#%%\n"
    }
   },
   "outputs": [],
   "source": [
    "results = []\n",
    "for cl in CELL_LINES:\n",
    "    for rep in REPS:\n",
    "        r = pd.read_csv(f'ms2pip_out_refseq_{cl}_{rep}_correlations.csv', index_col=0)\n",
    "        r['percentile'] = rankdata(r.pearsonr) / r.shape[0]\n",
    "        r['cell line'] = cl\n",
    "        results.append(r)\n",
    "result = pd.concat(results)"
   ]
  },
  {
   "cell_type": "code",
   "execution_count": 6,
   "id": "920656ce-9ff5-45e9-b830-ee2ef9d90f33",
   "metadata": {
    "pycharm": {
     "name": "#%%\n"
    }
   },
   "outputs": [],
   "source": [
    "df = pd.merge(psms, result, on='spec_id')"
   ]
  },
  {
   "cell_type": "code",
   "execution_count": 7,
   "id": "f7a1574f-ea90-466a-a888-6a40b4a41158",
   "metadata": {
    "pycharm": {
     "name": "#%%\n"
    }
   },
   "outputs": [
    {
     "data": {
      "image/png": "[encoded data removed]",
      "text/plain": [
       "<Figure size 640x480 with 1 Axes>"
      ]
     },
     "metadata": {},
     "output_type": "display_data"
    }
   ],
   "source": [
    "plt.hist(df.loc[df.ion == 'B', 'pearsonr'], bins=50, alpha=0.4, label='b')\n",
    "plt.hist(df.loc[df.ion == 'Y', 'pearsonr'], bins=50, alpha=0.4, label='y')\n",
    "plt.legend()\n",
    "None"
   ]
  },
  {
   "cell_type": "code",
   "execution_count": 17,
   "id": "7c93a973-d962-433b-87b0-441f03bd96df",
   "metadata": {
    "pycharm": {
     "name": "#%%\n"
    }
   },
   "outputs": [
    {
     "data": {
      "image/png": "[encoded data removed]",
      "text/plain": [
       "<Figure size 640x480 with 1 Axes>"
      ]
     },
     "metadata": {},
     "output_type": "display_data"
    }
   ],
   "source": [
    "y, x, _ = plt.hist(df['pearsonr'], bins=100, color='orange')\n",
    "plt.vlines(scoreatpercentile(df['pearsonr'], 5), 0, y.max(), lw=2)\n",
    "plt.xlabel('Pearson R', fontsize='x-large')\n",
    "plt.xticks(np.linspace(-1, 1, 5), fontsize='x-large')\n",
    "plt.gca().get_yaxis().set_visible(False)\n",
    "\n",
    "plt.savefig('pearsonr_hist.svg')"
   ]
  },
  {
   "cell_type": "code",
   "execution_count": 10,
   "id": "b64c9743-af2e-426f-a618-9b06c85d2887",
   "metadata": {
    "pycharm": {
     "name": "#%%\n"
    }
   },
   "outputs": [],
   "source": [
    "peptides = pd.read_table(os.path.join(BASE_DIR, 'combined_peptide.tsv'), index_col=0)\n",
    "# peptides = peptides.loc[~peptides.index.duplicated()].copy()"
   ]
  },
  {
   "cell_type": "code",
   "execution_count": 15,
   "id": "2632cb14-2c1c-43f8-b914-542f21849a4b",
   "metadata": {
    "pycharm": {
     "name": "#%%\n"
    }
   },
   "outputs": [],
   "source": [
    "swiss = set()\n",
    "with fasta.read('/home/lab006/fasta/sprot_human_decoy.fasta') as f:\n",
    "    for d, s in f:\n",
    "        swiss |= parser.cleave(s, '[RK]', 2)"
   ]
  },
  {
   "cell_type": "code",
   "execution_count": 48,
   "id": "58713022-c2ad-4095-9c41-d5fae0006680",
   "metadata": {
    "pycharm": {
     "name": "#%%\n"
    }
   },
   "outputs": [],
   "source": [
    "out = pd.merge(peptides.loc[~peptides.index.isin(swiss)], df, left_index=True, right_on='Peptide', how='left')\n",
    "# out['Gene'] = out['ID original'].str.extract(r'[^:]*: ([^;]+)')"
   ]
  },
  {
   "cell_type": "code",
   "execution_count": 39,
   "id": "14521bf3-557f-47e3-bb92-05e1d0e20c8d",
   "metadata": {
    "pycharm": {
     "name": "#%%\n"
    }
   },
   "outputs": [
    {
     "data": {
      "text/html": [
       "<div>\n",
       "<style scoped>\n",
       "    .dataframe tbody tr th:only-of-type {\n",
       "        vertical-align: middle;\n",
       "    }\n",
       "\n",
       "    .dataframe tbody tr th {\n",
       "        vertical-align: top;\n",
       "    }\n",
       "\n",
       "    .dataframe thead th {\n",
       "        text-align: right;\n",
       "    }\n",
       "</style>\n",
       "<table border=\"1\" class=\"dataframe\">\n",
       "  <thead>\n",
       "    <tr style=\"text-align: right;\">\n",
       "      <th></th>\n",
       "      <th>Peptide</th>\n",
       "      <th>cell line</th>\n",
       "      <th>pearsonr</th>\n",
       "      <th>percentile</th>\n",
       "    </tr>\n",
       "  </thead>\n",
       "  <tbody>\n",
       "    <tr>\n",
       "      <th>170650.0</th>\n",
       "      <td>AAAASAAEAGIATTGTEGERDSDDALLK</td>\n",
       "      <td>P</td>\n",
       "      <td>0.973307</td>\n",
       "      <td>0.763979</td>\n",
       "    </tr>\n",
       "    <tr>\n",
       "      <th>170651.0</th>\n",
       "      <td>AAAASAAEAGIATTGTEGERDSDDALLK</td>\n",
       "      <td>P</td>\n",
       "      <td>0.684555</td>\n",
       "      <td>0.089901</td>\n",
       "    </tr>\n",
       "    <tr>\n",
       "      <th>7766.0</th>\n",
       "      <td>AAAGAAATHLEVAR</td>\n",
       "      <td>82</td>\n",
       "      <td>0.912677</td>\n",
       "      <td>0.325683</td>\n",
       "    </tr>\n",
       "    <tr>\n",
       "      <th>7767.0</th>\n",
       "      <td>AAAGAAATHLEVAR</td>\n",
       "      <td>82</td>\n",
       "      <td>0.920696</td>\n",
       "      <td>0.356112</td>\n",
       "    </tr>\n",
       "    <tr>\n",
       "      <th>7786.0</th>\n",
       "      <td>AAAGAAATHLEVAR</td>\n",
       "      <td>82</td>\n",
       "      <td>0.941536</td>\n",
       "      <td>0.462454</td>\n",
       "    </tr>\n",
       "    <tr>\n",
       "      <th>...</th>\n",
       "      <td>...</td>\n",
       "      <td>...</td>\n",
       "      <td>...</td>\n",
       "      <td>...</td>\n",
       "    </tr>\n",
       "    <tr>\n",
       "      <th>363275.0</th>\n",
       "      <td>YVTAFNGELEDYMSDR</td>\n",
       "      <td>KOR</td>\n",
       "      <td>0.782332</td>\n",
       "      <td>0.142697</td>\n",
       "    </tr>\n",
       "    <tr>\n",
       "      <th>488430.0</th>\n",
       "      <td>YVTAFNGELEDYMSDR</td>\n",
       "      <td>KIS</td>\n",
       "      <td>0.976174</td>\n",
       "      <td>0.785786</td>\n",
       "    </tr>\n",
       "    <tr>\n",
       "      <th>488431.0</th>\n",
       "      <td>YVTAFNGELEDYMSDR</td>\n",
       "      <td>KIS</td>\n",
       "      <td>0.768416</td>\n",
       "      <td>0.124937</td>\n",
       "    </tr>\n",
       "    <tr>\n",
       "      <th>533524.0</th>\n",
       "      <td>YVTAFNGELEDYMSDR</td>\n",
       "      <td>KIS</td>\n",
       "      <td>0.961827</td>\n",
       "      <td>0.658819</td>\n",
       "    </tr>\n",
       "    <tr>\n",
       "      <th>533525.0</th>\n",
       "      <td>YVTAFNGELEDYMSDR</td>\n",
       "      <td>KIS</td>\n",
       "      <td>0.323216</td>\n",
       "      <td>0.017310</td>\n",
       "    </tr>\n",
       "  </tbody>\n",
       "</table>\n",
       "<p>5181 rows × 4 columns</p>\n",
       "</div>"
      ],
      "text/plain": [
       "                               Peptide cell line  pearsonr  percentile\n",
       "170650.0  AAAASAAEAGIATTGTEGERDSDDALLK         P  0.973307    0.763979\n",
       "170651.0  AAAASAAEAGIATTGTEGERDSDDALLK         P  0.684555    0.089901\n",
       "7766.0                  AAAGAAATHLEVAR        82  0.912677    0.325683\n",
       "7767.0                  AAAGAAATHLEVAR        82  0.920696    0.356112\n",
       "7786.0                  AAAGAAATHLEVAR        82  0.941536    0.462454\n",
       "...                                ...       ...       ...         ...\n",
       "363275.0              YVTAFNGELEDYMSDR       KOR  0.782332    0.142697\n",
       "488430.0              YVTAFNGELEDYMSDR       KIS  0.976174    0.785786\n",
       "488431.0              YVTAFNGELEDYMSDR       KIS  0.768416    0.124937\n",
       "533524.0              YVTAFNGELEDYMSDR       KIS  0.961827    0.658819\n",
       "533525.0              YVTAFNGELEDYMSDR       KIS  0.323216    0.017310\n",
       "\n",
       "[5181 rows x 4 columns]"
      ]
     },
     "execution_count": 39,
     "metadata": {},
     "output_type": "execute_result"
    }
   ],
   "source": [
    "out[['Peptide', 'cell line', 'pearsonr', 'percentile']]"
   ]
  },
  {
   "cell_type": "code",
   "execution_count": 49,
   "id": "6ec92f2a-b94c-44ca-822f-d46858e4cba0",
   "metadata": {
    "pycharm": {
     "name": "#%%\n"
    }
   },
   "outputs": [],
   "source": [
    "out = pd.merge(\n",
    "        pd.pivot_table(out, values='percentile', index='Peptide', columns='cell line', aggfunc=np.max),\n",
    "    out, left_index=True, right_on='Peptide').drop_duplicates(\n",
    "        'Peptide')[['Peptide', 'Protein_x', *CELL_LINES]].set_index('Peptide')\n",
    "out['best'] = out[CELL_LINES].max(axis=1)"
   ]
  },
  {
   "cell_type": "code",
   "execution_count": 55,
   "id": "e9cb5271-c13a-4413-89fa-67e49b5ed3b2",
   "metadata": {
    "pycharm": {
     "name": "#%%\n"
    }
   },
   "outputs": [],
   "source": [
    "out.columns = ['Protein', *CELL_LINES, 'best']"
   ]
  },
  {
   "cell_type": "code",
   "execution_count": 56,
   "id": "f9d015bf-fb3e-4782-bf92-84dc3ac375e6",
   "metadata": {
    "pycharm": {
     "name": "#%%\n"
    }
   },
   "outputs": [
    {
     "data": {
      "text/html": [
       "<div>\n",
       "<style scoped>\n",
       "    .dataframe tbody tr th:only-of-type {\n",
       "        vertical-align: middle;\n",
       "    }\n",
       "\n",
       "    .dataframe tbody tr th {\n",
       "        vertical-align: top;\n",
       "    }\n",
       "\n",
       "    .dataframe thead th {\n",
       "        text-align: right;\n",
       "    }\n",
       "</style>\n",
       "<table border=\"1\" class=\"dataframe\">\n",
       "  <thead>\n",
       "    <tr style=\"text-align: right;\">\n",
       "      <th></th>\n",
       "      <th>Protein</th>\n",
       "      <th>82</th>\n",
       "      <th>P</th>\n",
       "      <th>KOR</th>\n",
       "      <th>KIS</th>\n",
       "      <th>best</th>\n",
       "    </tr>\n",
       "    <tr>\n",
       "      <th>Peptide</th>\n",
       "      <th></th>\n",
       "      <th></th>\n",
       "      <th></th>\n",
       "      <th></th>\n",
       "      <th></th>\n",
       "      <th></th>\n",
       "    </tr>\n",
       "  </thead>\n",
       "  <tbody>\n",
       "    <tr>\n",
       "      <th>AAAASAAEAGIATTGTEGERDSDDALLK</th>\n",
       "      <td>NP_001317621.1</td>\n",
       "      <td>NaN</td>\n",
       "      <td>0.763979</td>\n",
       "      <td>NaN</td>\n",
       "      <td>NaN</td>\n",
       "      <td>0.763979</td>\n",
       "    </tr>\n",
       "    <tr>\n",
       "      <th>AAAGAAATHLEVAR</th>\n",
       "      <td>NP_149975.1</td>\n",
       "      <td>0.671250</td>\n",
       "      <td>0.651222</td>\n",
       "      <td>0.687398</td>\n",
       "      <td>0.653700</td>\n",
       "      <td>0.687398</td>\n",
       "    </tr>\n",
       "    <tr>\n",
       "      <th>AAATLTSK</th>\n",
       "      <td>NP_001003684.1</td>\n",
       "      <td>0.977950</td>\n",
       "      <td>0.985434</td>\n",
       "      <td>0.976152</td>\n",
       "      <td>NaN</td>\n",
       "      <td>0.985434</td>\n",
       "    </tr>\n",
       "    <tr>\n",
       "      <th>AAATMATPLPGR</th>\n",
       "      <td>NP_116126.3</td>\n",
       "      <td>NaN</td>\n",
       "      <td>NaN</td>\n",
       "      <td>NaN</td>\n",
       "      <td>0.855949</td>\n",
       "      <td>0.855949</td>\n",
       "    </tr>\n",
       "    <tr>\n",
       "      <th>AACLESAQEPAGAWGNK</th>\n",
       "      <td>NP_001230829.1</td>\n",
       "      <td>0.513751</td>\n",
       "      <td>0.444581</td>\n",
       "      <td>0.523424</td>\n",
       "      <td>0.517137</td>\n",
       "      <td>0.523424</td>\n",
       "    </tr>\n",
       "    <tr>\n",
       "      <th>...</th>\n",
       "      <td>...</td>\n",
       "      <td>...</td>\n",
       "      <td>...</td>\n",
       "      <td>...</td>\n",
       "      <td>...</td>\n",
       "      <td>...</td>\n",
       "    </tr>\n",
       "    <tr>\n",
       "      <th>YSSNLGNFNYER</th>\n",
       "      <td>NP_001136403.1</td>\n",
       "      <td>0.655674</td>\n",
       "      <td>NaN</td>\n",
       "      <td>NaN</td>\n",
       "      <td>NaN</td>\n",
       "      <td>0.655674</td>\n",
       "    </tr>\n",
       "    <tr>\n",
       "      <th>YSVDPSIVNISDEMAK</th>\n",
       "      <td>NP_001245308.1</td>\n",
       "      <td>NaN</td>\n",
       "      <td>NaN</td>\n",
       "      <td>0.848935</td>\n",
       "      <td>0.658354</td>\n",
       "      <td>0.848935</td>\n",
       "    </tr>\n",
       "    <tr>\n",
       "      <th>YTAIPQSGSPFPGSVQDPGLHVWR</th>\n",
       "      <td>NP_001243068.1</td>\n",
       "      <td>NaN</td>\n",
       "      <td>0.401115</td>\n",
       "      <td>NaN</td>\n",
       "      <td>NaN</td>\n",
       "      <td>0.401115</td>\n",
       "    </tr>\n",
       "    <tr>\n",
       "      <th>YTPQSPTYTPSSPSYSPSSPSYSPTSPK</th>\n",
       "      <td>NP_000928.1</td>\n",
       "      <td>0.416716</td>\n",
       "      <td>NaN</td>\n",
       "      <td>NaN</td>\n",
       "      <td>NaN</td>\n",
       "      <td>0.416716</td>\n",
       "    </tr>\n",
       "    <tr>\n",
       "      <th>YVTAFNGELEDYMSDR</th>\n",
       "      <td>NP_006288.2</td>\n",
       "      <td>NaN</td>\n",
       "      <td>0.811278</td>\n",
       "      <td>0.808839</td>\n",
       "      <td>0.785786</td>\n",
       "      <td>0.811278</td>\n",
       "    </tr>\n",
       "  </tbody>\n",
       "</table>\n",
       "<p>545 rows × 6 columns</p>\n",
       "</div>"
      ],
      "text/plain": [
       "                                     Protein        82         P       KOR  \\\n",
       "Peptide                                                                      \n",
       "AAAASAAEAGIATTGTEGERDSDDALLK  NP_001317621.1       NaN  0.763979       NaN   \n",
       "AAAGAAATHLEVAR                   NP_149975.1  0.671250  0.651222  0.687398   \n",
       "AAATLTSK                      NP_001003684.1  0.977950  0.985434  0.976152   \n",
       "AAATMATPLPGR                     NP_116126.3       NaN       NaN       NaN   \n",
       "AACLESAQEPAGAWGNK             NP_001230829.1  0.513751  0.444581  0.523424   \n",
       "...                                      ...       ...       ...       ...   \n",
       "YSSNLGNFNYER                  NP_001136403.1  0.655674       NaN       NaN   \n",
       "YSVDPSIVNISDEMAK              NP_001245308.1       NaN       NaN  0.848935   \n",
       "YTAIPQSGSPFPGSVQDPGLHVWR      NP_001243068.1       NaN  0.401115       NaN   \n",
       "YTPQSPTYTPSSPSYSPSSPSYSPTSPK     NP_000928.1  0.416716       NaN       NaN   \n",
       "YVTAFNGELEDYMSDR                 NP_006288.2       NaN  0.811278  0.808839   \n",
       "\n",
       "                                   KIS      best  \n",
       "Peptide                                           \n",
       "AAAASAAEAGIATTGTEGERDSDDALLK       NaN  0.763979  \n",
       "AAAGAAATHLEVAR                0.653700  0.687398  \n",
       "AAATLTSK                           NaN  0.985434  \n",
       "AAATMATPLPGR                  0.855949  0.855949  \n",
       "AACLESAQEPAGAWGNK             0.517137  0.523424  \n",
       "...                                ...       ...  \n",
       "YSSNLGNFNYER                       NaN  0.655674  \n",
       "YSVDPSIVNISDEMAK              0.658354  0.848935  \n",
       "YTAIPQSGSPFPGSVQDPGLHVWR           NaN  0.401115  \n",
       "YTPQSPTYTPSSPSYSPSSPSYSPTSPK       NaN  0.416716  \n",
       "YVTAFNGELEDYMSDR              0.785786  0.811278  \n",
       "\n",
       "[545 rows x 6 columns]"
      ]
     },
     "execution_count": 56,
     "metadata": {},
     "output_type": "execute_result"
    }
   ],
   "source": [
    "out"
   ]
  },
  {
   "cell_type": "code",
   "execution_count": 57,
   "id": "d5a255a2-525c-4eab-9d9c-561a4070588f",
   "metadata": {
    "pycharm": {
     "name": "#%%\n"
    }
   },
   "outputs": [],
   "source": [
    "summary = out.sort_values('best')"
   ]
  },
  {
   "cell_type": "code",
   "execution_count": 59,
   "id": "4124e657-8893-469c-b889-98af45b42fb0",
   "metadata": {
    "pycharm": {
     "name": "#%%\n"
    }
   },
   "outputs": [],
   "source": [
    "summary.to_csv('ms2pip_summary_refseq.csv')"
   ]
  },
  {
   "cell_type": "code",
   "execution_count": null,
   "id": "bb5e3ff7-a0ef-450e-bcfc-3d7e7d387bdc",
   "metadata": {
    "pycharm": {
     "name": "#%%\n"
    }
   },
   "outputs": [],
   "source": []
  }
 ],
 "metadata": {
  "kernelspec": {
   "display_name": "Python 3 (ipykernel)",
   "language": "python",
   "name": "python3"
  },
  "language_info": {
   "codemirror_mode": {
    "name": "ipython",
    "version": 3
   },
   "file_extension": ".py",
   "mimetype": "text/x-python",
   "name": "python",
   "nbconvert_exporter": "python",
   "pygments_lexer": "ipython3",
   "version": "3.10.7"
  }
 },
 "nbformat": 4,
 "nbformat_minor": 5
}