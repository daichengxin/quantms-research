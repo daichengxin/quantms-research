{
 "cells": [
  {
   "cell_type": "code",
   "execution_count": 15,
   "metadata": {},
   "outputs": [],
   "source": [
    "import pandas as pd"
   ]
  },
  {
   "cell_type": "markdown",
   "metadata": {},
   "source": [
    "# quantms"
   ]
  },
  {
   "cell_type": "markdown",
   "metadata": {},
   "source": [
    "### 4-1"
   ]
  },
  {
   "cell_type": "code",
   "execution_count": 16,
   "metadata": {},
   "outputs": [
    {
     "name": "stdout",
     "output_type": "stream",
     "text": [
      "254\n",
      "73\n",
      "1222\n",
      "113\n",
      "PPV = 0.776758\n",
      "NPV = 0.915356\n"
     ]
    }
   ],
   "source": [
    "# EM (equalizeMedians)\n",
    "proteus = pd.read_csv(\"./proteus-quantms-EM-4_1.csv\", header=0, sep=\",\", index_col=0)\n",
    "proteus.dropna(subset=[\"logFC\", \"P.Value\"], how=\"any\", inplace=True)\n",
    "positive =  proteus[(abs(proteus[\"logFC\"]) >1) &(proteus[\"adj.P.Val\"] <0.05) ]\n",
    "negative = proteus[(abs(proteus[\"logFC\"]) <=1) | (proteus[\"adj.P.Val\"] >=0.05) ]\n",
    "\n",
    "TP = len(positive[positive[\"protein\"].str.contains(\"YEAST\")])\n",
    "FP = len(positive) - TP\n",
    "\n",
    "FN = len(negative[negative[\"protein\"].str.contains(\"YEAST\")])\n",
    "TN = len(negative) - FN\n",
    "\n",
    "print(TP)\n",
    "print(FP)\n",
    "print(TN)\n",
    "print(FN)\n",
    "\n",
    "print(\"PPV = %.6f\" % (TP / (TP + FP)))\n",
    "print(\"NPV = %.6f\" % (TN / (TN + FN)))"
   ]
  },
  {
   "cell_type": "code",
   "execution_count": 17,
   "metadata": {},
   "outputs": [
    {
     "name": "stdout",
     "output_type": "stream",
     "text": [
      "248\n",
      "75\n",
      "1220\n",
      "119\n",
      "PPV = 0.767802\n",
      "NPV = 0.911128\n"
     ]
    }
   ],
   "source": [
    "# Q (quantiles)\n",
    "proteus = pd.read_csv(\"./proteus-quantms-Q-4_1.csv\", header=0, sep=\",\", index_col=0)\n",
    "proteus.dropna(subset=[\"logFC\", \"P.Value\"], how=\"any\", inplace=True)\n",
    "positive =  proteus[(abs(proteus[\"logFC\"]) >1) &(proteus[\"adj.P.Val\"] <0.05) ]\n",
    "negative = proteus[(abs(proteus[\"logFC\"]) <=1) | (proteus[\"adj.P.Val\"] >=0.05) ]\n",
    "\n",
    "TP = len(positive[positive[\"protein\"].str.contains(\"YEAST\")])\n",
    "FP = len(positive) - TP\n",
    "\n",
    "FN = len(negative[negative[\"protein\"].str.contains(\"YEAST\")])\n",
    "TN = len(negative) - FN\n",
    "\n",
    "print(TP)\n",
    "print(FP)\n",
    "print(TN)\n",
    "print(FN)\n",
    "\n",
    "print(\"PPV = %.6f\" % (TP / (TP + FP)))\n",
    "print(\"NPV = %.6f\" % (TN / (TN + FN)))"
   ]
  },
  {
   "cell_type": "code",
   "execution_count": 18,
   "metadata": {},
   "outputs": [
    {
     "name": "stdout",
     "output_type": "stream",
     "text": [
      "272\n",
      "75\n",
      "1220\n",
      "95\n",
      "PPV = 0.783862\n",
      "NPV = 0.927757\n"
     ]
    }
   ],
   "source": [
    "# NN (None)\n",
    "proteus = pd.read_csv(\"./proteus-quantms-NN-4_1.csv\", header=0, sep=\",\", index_col=0)\n",
    "proteus.dropna(subset=[\"logFC\", \"P.Value\"], how=\"any\", inplace=True)\n",
    "positive =  proteus[(abs(proteus[\"logFC\"]) >1) &(proteus[\"adj.P.Val\"] <0.05) ]\n",
    "negative = proteus[(abs(proteus[\"logFC\"]) <=1) | (proteus[\"adj.P.Val\"] >=0.05) ]\n",
    "\n",
    "TP = len(positive[positive[\"protein\"].str.contains(\"YEAST\")])\n",
    "FP = len(positive) - TP\n",
    "\n",
    "FN = len(negative[negative[\"protein\"].str.contains(\"YEAST\")])\n",
    "TN = len(negative) - FN\n",
    "\n",
    "print(TP)\n",
    "print(FP)\n",
    "print(TN)\n",
    "print(FN)\n",
    "\n",
    "print(\"PPV = %.6f\" % (TP / (TP + FP)))\n",
    "print(\"NPV = %.6f\" % (TN / (TN + FN)))"
   ]
  },
  {
   "cell_type": "markdown",
   "metadata": {},
   "source": [
    "### 10-1"
   ]
  },
  {
   "cell_type": "code",
   "execution_count": 19,
   "metadata": {},
   "outputs": [
    {
     "name": "stdout",
     "output_type": "stream",
     "text": [
      "301\n",
      "207\n",
      "1074\n",
      "68\n",
      "PPV = 0.592520\n",
      "NPV = 0.940455\n"
     ]
    }
   ],
   "source": [
    "# EM (equalizeMedians)\n",
    "proteus = pd.read_csv(\"./proteus-quantms-EM-10_1.csv\", header=0, sep=\",\", index_col=0)\n",
    "proteus.dropna(subset=[\"logFC\", \"P.Value\"], how=\"any\", inplace=True)\n",
    "positive =  proteus[(abs(proteus[\"logFC\"]) >1) &(proteus[\"adj.P.Val\"] <0.05) ]\n",
    "negative = proteus[(abs(proteus[\"logFC\"]) <=1) | (proteus[\"adj.P.Val\"] >=0.05) ]\n",
    "\n",
    "TP = len(positive[positive[\"protein\"].str.contains(\"YEAST\")])\n",
    "FP = len(positive) - TP\n",
    "\n",
    "FN = len(negative[negative[\"protein\"].str.contains(\"YEAST\")])\n",
    "TN = len(negative) - FN\n",
    "\n",
    "print(TP)\n",
    "print(FP)\n",
    "print(TN)\n",
    "print(FN)\n",
    "\n",
    "print(\"PPV = %.6f\" % (TP / (TP + FP)))\n",
    "print(\"NPV = %.6f\" % (TN / (TN + FN)))"
   ]
  },
  {
   "cell_type": "code",
   "execution_count": 20,
   "metadata": {},
   "outputs": [
    {
     "name": "stdout",
     "output_type": "stream",
     "text": [
      "297\n",
      "191\n",
      "1090\n",
      "72\n",
      "PPV = 0.608607\n",
      "NPV = 0.938038\n"
     ]
    }
   ],
   "source": [
    "# Q (quantiles)\n",
    "proteus = pd.read_csv(\"./proteus-quantms-Q-10_1.csv\", header=0, sep=\",\", index_col=0)\n",
    "proteus.dropna(subset=[\"logFC\", \"P.Value\"], how=\"any\", inplace=True)\n",
    "positive =  proteus[(abs(proteus[\"logFC\"]) >1) &(proteus[\"adj.P.Val\"] <0.05) ]\n",
    "negative = proteus[(abs(proteus[\"logFC\"]) <=1) | (proteus[\"adj.P.Val\"] >=0.05) ]\n",
    "\n",
    "TP = len(positive[positive[\"protein\"].str.contains(\"YEAST\")])\n",
    "FP = len(positive) - TP\n",
    "\n",
    "FN = len(negative[negative[\"protein\"].str.contains(\"YEAST\")])\n",
    "TN = len(negative) - FN\n",
    "\n",
    "print(TP)\n",
    "print(FP)\n",
    "print(TN)\n",
    "print(FN)\n",
    "\n",
    "print(\"PPV = %.6f\" % (TP / (TP + FP)))\n",
    "print(\"NPV = %.6f\" % (TN / (TN + FN)))"
   ]
  },
  {
   "cell_type": "code",
   "execution_count": 21,
   "metadata": {},
   "outputs": [
    {
     "name": "stdout",
     "output_type": "stream",
     "text": [
      "321\n",
      "139\n",
      "1142\n",
      "48\n",
      "PPV = 0.697826\n",
      "NPV = 0.959664\n"
     ]
    }
   ],
   "source": [
    "# NN (None)\n",
    "proteus = pd.read_csv(\"./proteus-quantms-NN-10_1.csv\", header=0, sep=\",\", index_col=0)\n",
    "proteus.dropna(subset=[\"logFC\", \"P.Value\"], how=\"any\", inplace=True)\n",
    "positive =  proteus[(abs(proteus[\"logFC\"]) >1) &(proteus[\"adj.P.Val\"] <0.05) ]\n",
    "negative = proteus[(abs(proteus[\"logFC\"]) <=1) | (proteus[\"adj.P.Val\"] >=0.05) ]\n",
    "\n",
    "TP = len(positive[positive[\"protein\"].str.contains(\"YEAST\")])\n",
    "FP = len(positive) - TP\n",
    "\n",
    "FN = len(negative[negative[\"protein\"].str.contains(\"YEAST\")])\n",
    "TN = len(negative) - FN\n",
    "\n",
    "print(TP)\n",
    "print(FP)\n",
    "print(TN)\n",
    "print(FN)\n",
    "\n",
    "print(\"PPV = %.6f\" % (TP / (TP + FP)))\n",
    "print(\"NPV = %.6f\" % (TN / (TN + FN)))"
   ]
  },
  {
   "cell_type": "markdown",
   "metadata": {},
   "source": [
    "# MaxQuant"
   ]
  },
  {
   "cell_type": "markdown",
   "metadata": {},
   "source": [
    "### 4-1"
   ]
  },
  {
   "cell_type": "code",
   "execution_count": 22,
   "metadata": {},
   "outputs": [
    {
     "name": "stdout",
     "output_type": "stream",
     "text": [
      "293\n",
      "178\n",
      "1862\n",
      "85\n",
      "PPV = 0.622081\n",
      "NPV = 0.956343\n"
     ]
    }
   ],
   "source": [
    "# EM (equalizeMedians)\n",
    "proteus = pd.read_csv(\"./proteus-maxquant-EM-4_1.csv\", header=0, sep=\",\", index_col=0)\n",
    "proteus.dropna(subset=[\"logFC\", \"P.Value\"], how=\"any\", inplace=True)\n",
    "positive =  proteus[(abs(proteus[\"logFC\"]) >1) &(proteus[\"adj.P.Val\"] <0.05) ]\n",
    "negative = proteus[(abs(proteus[\"logFC\"]) <=1) | (proteus[\"adj.P.Val\"] >=0.05) ]\n",
    "\n",
    "TP = len(positive[positive[\"protein\"].str.contains(\"YEAST\")])\n",
    "FP = len(positive) - TP\n",
    "\n",
    "FN = len(negative[negative[\"protein\"].str.contains(\"YEAST\")])\n",
    "TN = len(negative) - FN\n",
    "\n",
    "print(TP)\n",
    "print(FP)\n",
    "print(TN)\n",
    "print(FN)\n",
    "\n",
    "print(\"PPV = %.6f\" % (TP / (TP + FP)))\n",
    "print(\"NPV = %.6f\" % (TN / (TN + FN)))"
   ]
  },
  {
   "cell_type": "code",
   "execution_count": 23,
   "metadata": {},
   "outputs": [
    {
     "name": "stdout",
     "output_type": "stream",
     "text": [
      "293\n",
      "174\n",
      "1866\n",
      "85\n",
      "PPV = 0.627409\n",
      "NPV = 0.956433\n"
     ]
    }
   ],
   "source": [
    "# Q (quantiles)\n",
    "proteus = pd.read_csv(\"./proteus-maxquant-Q-4_1.csv\", header=0, sep=\",\", index_col=0)\n",
    "proteus.dropna(subset=[\"logFC\", \"P.Value\"], how=\"any\", inplace=True)\n",
    "positive =  proteus[(abs(proteus[\"logFC\"]) >1) &(proteus[\"adj.P.Val\"] <0.05) ]\n",
    "negative = proteus[(abs(proteus[\"logFC\"]) <=1) | (proteus[\"adj.P.Val\"] >=0.05) ]\n",
    "\n",
    "TP = len(positive[positive[\"protein\"].str.contains(\"YEAST\")])\n",
    "FP = len(positive) - TP\n",
    "\n",
    "FN = len(negative[negative[\"protein\"].str.contains(\"YEAST\")])\n",
    "TN = len(negative) - FN\n",
    "\n",
    "print(TP)\n",
    "print(FP)\n",
    "print(TN)\n",
    "print(FN)\n",
    "\n",
    "print(\"PPV = %.6f\" % (TP / (TP + FP)))\n",
    "print(\"NPV = %.6f\" % (TN / (TN + FN)))"
   ]
  },
  {
   "cell_type": "code",
   "execution_count": 24,
   "metadata": {},
   "outputs": [
    {
     "name": "stdout",
     "output_type": "stream",
     "text": [
      "308\n",
      "171\n",
      "1869\n",
      "70\n",
      "PPV = 0.643006\n",
      "NPV = 0.963899\n"
     ]
    }
   ],
   "source": [
    "# NN (None)\n",
    "proteus = pd.read_csv(\"./proteus-maxquant-NN-4_1.csv\", header=0, sep=\",\", index_col=0)\n",
    "proteus.dropna(subset=[\"logFC\", \"P.Value\"], how=\"any\", inplace=True)\n",
    "positive =  proteus[(abs(proteus[\"logFC\"]) >1) &(proteus[\"adj.P.Val\"] <0.05) ]\n",
    "negative = proteus[(abs(proteus[\"logFC\"]) <=1) | (proteus[\"adj.P.Val\"] >=0.05) ]\n",
    "\n",
    "TP = len(positive[positive[\"protein\"].str.contains(\"YEAST\")])\n",
    "FP = len(positive) - TP\n",
    "\n",
    "FN = len(negative[negative[\"protein\"].str.contains(\"YEAST\")])\n",
    "TN = len(negative) - FN\n",
    "\n",
    "print(TP)\n",
    "print(FP)\n",
    "print(TN)\n",
    "print(FN)\n",
    "\n",
    "print(\"PPV = %.6f\" % (TP / (TP + FP)))\n",
    "print(\"NPV = %.6f\" % (TN / (TN + FN)))"
   ]
  },
  {
   "cell_type": "markdown",
   "metadata": {},
   "source": [
    "### 10-1"
   ]
  },
  {
   "cell_type": "code",
   "execution_count": 25,
   "metadata": {},
   "outputs": [
    {
     "name": "stdout",
     "output_type": "stream",
     "text": [
      "334\n",
      "405\n",
      "1526\n",
      "49\n",
      "PPV = 0.451962\n",
      "NPV = 0.968889\n"
     ]
    }
   ],
   "source": [
    "# EM (equalizeMedians)\n",
    "proteus = pd.read_csv(\"./proteus-maxquant-EM-10_1.csv\", header=0, sep=\",\", index_col=0)\n",
    "proteus.dropna(subset=[\"logFC\", \"P.Value\"], how=\"any\", inplace=True)\n",
    "positive =  proteus[(abs(proteus[\"logFC\"]) >1) &(proteus[\"adj.P.Val\"] <0.05) ]\n",
    "negative = proteus[(abs(proteus[\"logFC\"]) <=1) | (proteus[\"adj.P.Val\"] >=0.05) ]\n",
    "\n",
    "TP = len(positive[positive[\"protein\"].str.contains(\"YEAST\")])\n",
    "FP = len(positive) - TP\n",
    "\n",
    "FN = len(negative[negative[\"protein\"].str.contains(\"YEAST\")])\n",
    "TN = len(negative) - FN\n",
    "\n",
    "print(TP)\n",
    "print(FP)\n",
    "print(TN)\n",
    "print(FN)\n",
    "\n",
    "print(\"PPV = %.6f\" % (TP / (TP + FP)))\n",
    "print(\"NPV = %.6f\" % (TN / (TN + FN)))"
   ]
  },
  {
   "cell_type": "code",
   "execution_count": 26,
   "metadata": {},
   "outputs": [
    {
     "name": "stdout",
     "output_type": "stream",
     "text": [
      "335\n",
      "426\n",
      "1505\n",
      "48\n",
      "PPV = 0.440210\n",
      "NPV = 0.969092\n"
     ]
    }
   ],
   "source": [
    "# Q (quantiles)\n",
    "proteus = pd.read_csv(\"./proteus-maxquant-Q-10_1.csv\", header=0, sep=\",\", index_col=0)\n",
    "proteus.dropna(subset=[\"logFC\", \"P.Value\"], how=\"any\", inplace=True)\n",
    "positive =  proteus[(abs(proteus[\"logFC\"]) >1) &(proteus[\"adj.P.Val\"] <0.05) ]\n",
    "negative = proteus[(abs(proteus[\"logFC\"]) <=1) | (proteus[\"adj.P.Val\"] >=0.05) ]\n",
    "\n",
    "TP = len(positive[positive[\"protein\"].str.contains(\"YEAST\")])\n",
    "FP = len(positive) - TP\n",
    "\n",
    "FN = len(negative[negative[\"protein\"].str.contains(\"YEAST\")])\n",
    "TN = len(negative) - FN\n",
    "\n",
    "print(TP)\n",
    "print(FP)\n",
    "print(TN)\n",
    "print(FN)\n",
    "\n",
    "print(\"PPV = %.6f\" % (TP / (TP + FP)))\n",
    "print(\"NPV = %.6f\" % (TN / (TN + FN)))"
   ]
  },
  {
   "cell_type": "code",
   "execution_count": 27,
   "metadata": {},
   "outputs": [
    {
     "name": "stdout",
     "output_type": "stream",
     "text": [
      "343\n",
      "276\n",
      "1655\n",
      "40\n",
      "PPV = 0.554120\n",
      "NPV = 0.976401\n"
     ]
    }
   ],
   "source": [
    "# NN (None)\n",
    "proteus = pd.read_csv(\"./proteus-maxquant-NN-10_1.csv\", header=0, sep=\",\", index_col=0)\n",
    "proteus.dropna(subset=[\"logFC\", \"P.Value\"], how=\"any\", inplace=True)\n",
    "positive =  proteus[(abs(proteus[\"logFC\"]) >1) &(proteus[\"adj.P.Val\"] <0.05) ]\n",
    "negative = proteus[(abs(proteus[\"logFC\"]) <=1) | (proteus[\"adj.P.Val\"] >=0.05) ]\n",
    "\n",
    "TP = len(positive[positive[\"protein\"].str.contains(\"YEAST\")])\n",
    "FP = len(positive) - TP\n",
    "\n",
    "FN = len(negative[negative[\"protein\"].str.contains(\"YEAST\")])\n",
    "TN = len(negative) - FN\n",
    "\n",
    "print(TP)\n",
    "print(FP)\n",
    "print(TN)\n",
    "print(FN)\n",
    "\n",
    "print(\"PPV = %.6f\" % (TP / (TP + FP)))\n",
    "print(\"NPV = %.6f\" % (TN / (TN + FN)))"
   ]
  }
 ],
 "metadata": {
  "kernelspec": {
   "display_name": "douer(base)",
   "language": "python",
   "name": "base"
  },
  "language_info": {
   "codemirror_mode": {
    "name": "ipython",
    "version": 3
   },
   "file_extension": ".py",
   "mimetype": "text/x-python",
   "name": "python",
   "nbconvert_exporter": "python",
   "pygments_lexer": "ipython3",
   "version": "3.7.6"
  }
 },
 "nbformat": 4,
 "nbformat_minor": 4
}
