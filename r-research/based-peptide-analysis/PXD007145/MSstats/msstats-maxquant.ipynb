{
 "cells": [
  {
   "cell_type": "code",
   "execution_count": 30,
   "metadata": {},
   "outputs": [],
   "source": [
    "import pandas as pd"
   ]
  },
  {
   "cell_type": "markdown",
   "metadata": {},
   "source": [
    "# quantms"
   ]
  },
  {
   "cell_type": "markdown",
   "metadata": {},
   "source": [
    "### 4-1"
   ]
  },
  {
   "cell_type": "code",
   "execution_count": 31,
   "metadata": {},
   "outputs": [
    {
     "name": "stdout",
     "output_type": "stream",
     "text": [
      "320\n",
      "39\n",
      "1256\n",
      "95\n",
      "PPV = 0.891365\n",
      "NPV = 0.929682\n"
     ]
    }
   ],
   "source": [
    "# EM (equalizeMedians)\n",
    "msstats = pd.read_csv(\"./MSstats_output-quantms-EM-4_1.csv\", header=0, sep=\",\")\n",
    "msstats.dropna(subset=[\"log2FC\", \"adj.pvalue\"], how=\"any\", inplace=True)\n",
    "\n",
    "msstats[\"log2FC\"] = pd.to_numeric(msstats[\"log2FC\"],errors='coerce')\n",
    "\n",
    "positive =  msstats[(abs(msstats[\"log2FC\"]) >1) &(msstats[\"adj.pvalue\"] <0.05) ]\n",
    "negative = msstats[(abs(msstats[\"log2FC\"]) <=1) | (msstats[\"adj.pvalue\"] >=0.05) ]\n",
    "\n",
    "TP = len(positive[positive[\"Protein\"].str.contains(\"YEAST\")])\n",
    "FP = len(positive) - TP\n",
    "\n",
    "FN = len(negative[negative[\"Protein\"].str.contains(\"YEAST\")])\n",
    "TN = len(negative) - FN\n",
    "\n",
    "print(TP)\n",
    "print(FP)\n",
    "print(TN)\n",
    "print(FN)\n",
    "\n",
    "print(\"PPV = %.6f\" % (TP / (TP + FP)))\n",
    "print(\"NPV = %.6f\" % (TN / (TN + FN)))"
   ]
  },
  {
   "cell_type": "code",
   "execution_count": 32,
   "metadata": {},
   "outputs": [
    {
     "name": "stdout",
     "output_type": "stream",
     "text": [
      "321\n",
      "39\n",
      "1256\n",
      "94\n",
      "PPV = 0.891667\n",
      "NPV = 0.930370\n"
     ]
    }
   ],
   "source": [
    "# Q (quantiles)\n",
    "msstats = pd.read_csv(\"./MSstats_output-quantms-Q-4_1.csv\", header=0, sep=\",\")\n",
    "msstats.dropna(subset=[\"log2FC\", \"adj.pvalue\"], how=\"any\", inplace=True)\n",
    "\n",
    "msstats[\"log2FC\"] = pd.to_numeric(msstats[\"log2FC\"],errors='coerce')\n",
    "\n",
    "positive =  msstats[(abs(msstats[\"log2FC\"]) >1) &(msstats[\"adj.pvalue\"] <0.05) ]\n",
    "negative = msstats[(abs(msstats[\"log2FC\"]) <=1) | (msstats[\"adj.pvalue\"] >=0.05) ]\n",
    "\n",
    "TP = len(positive[positive[\"Protein\"].str.contains(\"YEAST\")])\n",
    "FP = len(positive) - TP\n",
    "\n",
    "FN = len(negative[negative[\"Protein\"].str.contains(\"YEAST\")])\n",
    "TN = len(negative) - FN\n",
    "\n",
    "print(TP)\n",
    "print(FP)\n",
    "print(TN)\n",
    "print(FN)\n",
    "\n",
    "print(\"PPV = %.6f\" % (TP / (TP + FP)))\n",
    "print(\"NPV = %.6f\" % (TN / (TN + FN)))"
   ]
  },
  {
   "cell_type": "code",
   "execution_count": 33,
   "metadata": {},
   "outputs": [
    {
     "name": "stdout",
     "output_type": "stream",
     "text": [
      "335\n",
      "42\n",
      "1253\n",
      "80\n",
      "PPV = 0.888594\n",
      "NPV = 0.939985\n"
     ]
    }
   ],
   "source": [
    "# NN (None)\n",
    "msstats = pd.read_csv(\"./MSstats_output-quantms-NN-4_1.csv\", header=0, sep=\",\")\n",
    "msstats.dropna(subset=[\"log2FC\", \"adj.pvalue\"], how=\"any\", inplace=True)\n",
    "\n",
    "msstats[\"log2FC\"] = pd.to_numeric(msstats[\"log2FC\"],errors='coerce')\n",
    "\n",
    "positive =  msstats[(abs(msstats[\"log2FC\"]) >1) &(msstats[\"adj.pvalue\"] <0.05) ]\n",
    "negative = msstats[(abs(msstats[\"log2FC\"]) <=1) | (msstats[\"adj.pvalue\"] >=0.05) ]\n",
    "\n",
    "TP = len(positive[positive[\"Protein\"].str.contains(\"YEAST\")])\n",
    "FP = len(positive) - TP\n",
    "\n",
    "FN = len(negative[negative[\"Protein\"].str.contains(\"YEAST\")])\n",
    "TN = len(negative) - FN\n",
    "\n",
    "print(TP)\n",
    "print(FP)\n",
    "print(TN)\n",
    "print(FN)\n",
    "\n",
    "print(\"PPV = %.6f\" % (TP / (TP + FP)))\n",
    "print(\"NPV = %.6f\" % (TN / (TN + FN)))"
   ]
  },
  {
   "cell_type": "markdown",
   "metadata": {},
   "source": [
    "### 10-1"
   ]
  },
  {
   "cell_type": "code",
   "execution_count": 34,
   "metadata": {},
   "outputs": [
    {
     "name": "stdout",
     "output_type": "stream",
     "text": [
      "379\n",
      "184\n",
      "1092\n",
      "40\n",
      "PPV = 0.673179\n",
      "NPV = 0.964664\n"
     ]
    }
   ],
   "source": [
    "# EM (equalizeMedians)\n",
    "msstats = pd.read_csv(\"./MSstats_output-quantms-EM-10_1.csv\", header=0, sep=\",\")\n",
    "msstats.dropna(subset=[\"log2FC\", \"adj.pvalue\"], how=\"any\", inplace=True)\n",
    "\n",
    "msstats[\"log2FC\"] = pd.to_numeric(msstats[\"log2FC\"],errors='coerce')\n",
    "\n",
    "positive =  msstats[(abs(msstats[\"log2FC\"]) >1) &(msstats[\"adj.pvalue\"] <0.05) ]\n",
    "negative = msstats[(abs(msstats[\"log2FC\"]) <=1) | (msstats[\"adj.pvalue\"] >=0.05) ]\n",
    "\n",
    "TP = len(positive[positive[\"Protein\"].str.contains(\"YEAST\")])\n",
    "FP = len(positive) - TP\n",
    "\n",
    "FN = len(negative[negative[\"Protein\"].str.contains(\"YEAST\")])\n",
    "TN = len(negative) - FN\n",
    "\n",
    "print(TP)\n",
    "print(FP)\n",
    "print(TN)\n",
    "print(FN)\n",
    "\n",
    "print(\"PPV = %.6f\" % (TP / (TP + FP)))\n",
    "print(\"NPV = %.6f\" % (TN / (TN + FN)))"
   ]
  },
  {
   "cell_type": "code",
   "execution_count": 35,
   "metadata": {},
   "outputs": [
    {
     "name": "stdout",
     "output_type": "stream",
     "text": [
      "378\n",
      "182\n",
      "1094\n",
      "41\n",
      "PPV = 0.675000\n",
      "NPV = 0.963877\n"
     ]
    }
   ],
   "source": [
    "# Q (quantiles)\n",
    "msstats = pd.read_csv(\"./MSstats_output-quantms-Q-10_1.csv\", header=0, sep=\",\")\n",
    "msstats.dropna(subset=[\"log2FC\", \"adj.pvalue\"], how=\"any\", inplace=True)\n",
    "\n",
    "msstats[\"log2FC\"] = pd.to_numeric(msstats[\"log2FC\"],errors='coerce')\n",
    "\n",
    "positive =  msstats[(abs(msstats[\"log2FC\"]) >1) &(msstats[\"adj.pvalue\"] <0.05) ]\n",
    "negative = msstats[(abs(msstats[\"log2FC\"]) <=1) | (msstats[\"adj.pvalue\"] >=0.05) ]\n",
    "\n",
    "TP = len(positive[positive[\"Protein\"].str.contains(\"YEAST\")])\n",
    "FP = len(positive) - TP\n",
    "\n",
    "FN = len(negative[negative[\"Protein\"].str.contains(\"YEAST\")])\n",
    "TN = len(negative) - FN\n",
    "\n",
    "print(TP)\n",
    "print(FP)\n",
    "print(TN)\n",
    "print(FN)\n",
    "\n",
    "print(\"PPV = %.6f\" % (TP / (TP + FP)))\n",
    "print(\"NPV = %.6f\" % (TN / (TN + FN)))"
   ]
  },
  {
   "cell_type": "code",
   "execution_count": 36,
   "metadata": {},
   "outputs": [
    {
     "name": "stdout",
     "output_type": "stream",
     "text": [
      "394\n",
      "82\n",
      "1194\n",
      "25\n",
      "PPV = 0.827731\n",
      "NPV = 0.979491\n"
     ]
    }
   ],
   "source": [
    "# NN (None)\n",
    "msstats = pd.read_csv(\"./MSstats_output-quantms-NN-10_1.csv\", header=0, sep=\",\")\n",
    "msstats.dropna(subset=[\"log2FC\", \"adj.pvalue\"], how=\"any\", inplace=True)\n",
    "\n",
    "msstats[\"log2FC\"] = pd.to_numeric(msstats[\"log2FC\"],errors='coerce')\n",
    "\n",
    "positive =  msstats[(abs(msstats[\"log2FC\"]) >1) &(msstats[\"adj.pvalue\"] <0.05) ]\n",
    "negative = msstats[(abs(msstats[\"log2FC\"]) <=1) | (msstats[\"adj.pvalue\"] >=0.05) ]\n",
    "\n",
    "TP = len(positive[positive[\"Protein\"].str.contains(\"YEAST\")])\n",
    "FP = len(positive) - TP\n",
    "\n",
    "FN = len(negative[negative[\"Protein\"].str.contains(\"YEAST\")])\n",
    "TN = len(negative) - FN\n",
    "\n",
    "print(TP)\n",
    "print(FP)\n",
    "print(TN)\n",
    "print(FN)\n",
    "\n",
    "print(\"PPV = %.6f\" % (TP / (TP + FP)))\n",
    "print(\"NPV = %.6f\" % (TN / (TN + FN)))"
   ]
  },
  {
   "cell_type": "markdown",
   "metadata": {},
   "source": [
    "# maxquant"
   ]
  },
  {
   "cell_type": "markdown",
   "metadata": {},
   "source": [
    "### 4-1"
   ]
  },
  {
   "cell_type": "code",
   "execution_count": 37,
   "metadata": {},
   "outputs": [
    {
     "name": "stdout",
     "output_type": "stream",
     "text": [
      "584\n",
      "70\n",
      "1870\n",
      "52\n",
      "PPV = 0.892966\n",
      "NPV = 0.972945\n"
     ]
    }
   ],
   "source": [
    "# EM (equalizeMedians)\n",
    "msstats = pd.read_csv(\"./MSstats_output-maxquant-EM-4_1.csv\", header=0, sep=\",\")\n",
    "msstats.dropna(subset=[\"log2FC\", \"adj.pvalue\"], how=\"any\", inplace=True)\n",
    "\n",
    "msstats[\"log2FC\"] = pd.to_numeric(msstats[\"log2FC\"],errors='coerce')\n",
    "\n",
    "positive =  msstats[(abs(msstats[\"log2FC\"]) >1) &(msstats[\"adj.pvalue\"] <0.05) ]\n",
    "negative = msstats[(abs(msstats[\"log2FC\"]) <=1) | (msstats[\"adj.pvalue\"] >=0.05) ]\n",
    "\n",
    "TP = len(positive[positive[\"Protein\"].str.contains(\"YEAST\")])\n",
    "FP = len(positive) - TP\n",
    "\n",
    "FN = len(negative[negative[\"Protein\"].str.contains(\"YEAST\")])\n",
    "TN = len(negative) - FN\n",
    "\n",
    "print(TP)\n",
    "print(FP)\n",
    "print(TN)\n",
    "print(FN)\n",
    "\n",
    "print(\"PPV = %.6f\" % (TP / (TP + FP)))\n",
    "print(\"NPV = %.6f\" % (TN / (TN + FN)))"
   ]
  },
  {
   "cell_type": "code",
   "execution_count": 38,
   "metadata": {},
   "outputs": [
    {
     "name": "stdout",
     "output_type": "stream",
     "text": [
      "586\n",
      "70\n",
      "1870\n",
      "50\n",
      "PPV = 0.893293\n",
      "NPV = 0.973958\n"
     ]
    }
   ],
   "source": [
    "# Q (quantiles)\n",
    "msstats = pd.read_csv(\"./MSstats_output-maxquant-Q-4_1.csv\", header=0, sep=\",\")\n",
    "msstats.dropna(subset=[\"log2FC\", \"adj.pvalue\"], how=\"any\", inplace=True)\n",
    "\n",
    "msstats[\"log2FC\"] = pd.to_numeric(msstats[\"log2FC\"],errors='coerce')\n",
    "\n",
    "positive =  msstats[(abs(msstats[\"log2FC\"]) >1) &(msstats[\"adj.pvalue\"] <0.05) ]\n",
    "negative = msstats[(abs(msstats[\"log2FC\"]) <=1) | (msstats[\"adj.pvalue\"] >=0.05) ]\n",
    "\n",
    "TP = len(positive[positive[\"Protein\"].str.contains(\"YEAST\")])\n",
    "FP = len(positive) - TP\n",
    "\n",
    "FN = len(negative[negative[\"Protein\"].str.contains(\"YEAST\")])\n",
    "TN = len(negative) - FN\n",
    "\n",
    "print(TP)\n",
    "print(FP)\n",
    "print(TN)\n",
    "print(FN)\n",
    "\n",
    "print(\"PPV = %.6f\" % (TP / (TP + FP)))\n",
    "print(\"NPV = %.6f\" % (TN / (TN + FN)))"
   ]
  },
  {
   "cell_type": "code",
   "execution_count": 39,
   "metadata": {},
   "outputs": [
    {
     "name": "stdout",
     "output_type": "stream",
     "text": [
      "589\n",
      "67\n",
      "1873\n",
      "47\n",
      "PPV = 0.897866\n",
      "NPV = 0.975521\n"
     ]
    }
   ],
   "source": [
    "# NN (None)\n",
    "msstats = pd.read_csv(\"./MSstats_output-maxquant-NN-4_1.csv\", header=0, sep=\",\")\n",
    "msstats.dropna(subset=[\"log2FC\", \"adj.pvalue\"], how=\"any\", inplace=True)\n",
    "\n",
    "msstats[\"log2FC\"] = pd.to_numeric(msstats[\"log2FC\"],errors='coerce')\n",
    "\n",
    "positive =  msstats[(abs(msstats[\"log2FC\"]) >1) &(msstats[\"adj.pvalue\"] <0.05) ]\n",
    "negative = msstats[(abs(msstats[\"log2FC\"]) <=1) | (msstats[\"adj.pvalue\"] >=0.05) ]\n",
    "\n",
    "TP = len(positive[positive[\"Protein\"].str.contains(\"YEAST\")])\n",
    "FP = len(positive) - TP\n",
    "\n",
    "FN = len(negative[negative[\"Protein\"].str.contains(\"YEAST\")])\n",
    "TN = len(negative) - FN\n",
    "\n",
    "print(TP)\n",
    "print(FP)\n",
    "print(TN)\n",
    "print(FN)\n",
    "\n",
    "print(\"PPV = %.6f\" % (TP / (TP + FP)))\n",
    "print(\"NPV = %.6f\" % (TN / (TN + FN)))"
   ]
  },
  {
   "cell_type": "markdown",
   "metadata": {},
   "source": [
    "### 10-1"
   ]
  },
  {
   "cell_type": "code",
   "execution_count": 40,
   "metadata": {},
   "outputs": [
    {
     "name": "stdout",
     "output_type": "stream",
     "text": [
      "618\n",
      "207\n",
      "1634\n",
      "19\n",
      "PPV = 0.749091\n",
      "NPV = 0.988506\n"
     ]
    }
   ],
   "source": [
    "# EM (equalizeMedians)\n",
    "msstats = pd.read_csv(\"./MSstats_output-maxquant-EM-10_1.csv\", header=0, sep=\",\")\n",
    "msstats.dropna(subset=[\"log2FC\", \"adj.pvalue\"], how=\"any\", inplace=True)\n",
    "\n",
    "msstats[\"log2FC\"] = pd.to_numeric(msstats[\"log2FC\"],errors='coerce')\n",
    "\n",
    "positive =  msstats[(abs(msstats[\"log2FC\"]) >1) &(msstats[\"adj.pvalue\"] <0.05) ]\n",
    "negative = msstats[(abs(msstats[\"log2FC\"]) <=1) | (msstats[\"adj.pvalue\"] >=0.05) ]\n",
    "\n",
    "TP = len(positive[positive[\"Protein\"].str.contains(\"YEAST\")])\n",
    "FP = len(positive) - TP\n",
    "\n",
    "FN = len(negative[negative[\"Protein\"].str.contains(\"YEAST\")])\n",
    "TN = len(negative) - FN\n",
    "\n",
    "print(TP)\n",
    "print(FP)\n",
    "print(TN)\n",
    "print(FN)\n",
    "\n",
    "print(\"PPV = %.6f\" % (TP / (TP + FP)))\n",
    "print(\"NPV = %.6f\" % (TN / (TN + FN)))"
   ]
  },
  {
   "cell_type": "code",
   "execution_count": 41,
   "metadata": {},
   "outputs": [
    {
     "name": "stdout",
     "output_type": "stream",
     "text": [
      "619\n",
      "191\n",
      "1650\n",
      "18\n",
      "PPV = 0.764198\n",
      "NPV = 0.989209\n"
     ]
    }
   ],
   "source": [
    "# Q (quantiles)\n",
    "msstats = pd.read_csv(\"./MSstats_output-maxquant-Q-10_1.csv\", header=0, sep=\",\")\n",
    "msstats.dropna(subset=[\"log2FC\", \"adj.pvalue\"], how=\"any\", inplace=True)\n",
    "\n",
    "msstats[\"log2FC\"] = pd.to_numeric(msstats[\"log2FC\"],errors='coerce')\n",
    "\n",
    "positive =  msstats[(abs(msstats[\"log2FC\"]) >1) &(msstats[\"adj.pvalue\"] <0.05) ]\n",
    "negative = msstats[(abs(msstats[\"log2FC\"]) <=1) | (msstats[\"adj.pvalue\"] >=0.05) ]\n",
    "\n",
    "TP = len(positive[positive[\"Protein\"].str.contains(\"YEAST\")])\n",
    "FP = len(positive) - TP\n",
    "\n",
    "FN = len(negative[negative[\"Protein\"].str.contains(\"YEAST\")])\n",
    "TN = len(negative) - FN\n",
    "\n",
    "print(TP)\n",
    "print(FP)\n",
    "print(TN)\n",
    "print(FN)\n",
    "\n",
    "print(\"PPV = %.6f\" % (TP / (TP + FP)))\n",
    "print(\"NPV = %.6f\" % (TN / (TN + FN)))"
   ]
  },
  {
   "cell_type": "code",
   "execution_count": 42,
   "metadata": {},
   "outputs": [
    {
     "name": "stdout",
     "output_type": "stream",
     "text": [
      "619\n",
      "108\n",
      "1733\n",
      "18\n",
      "PPV = 0.851444\n",
      "NPV = 0.989720\n"
     ]
    }
   ],
   "source": [
    "# NN (None)\n",
    "msstats = pd.read_csv(\"./MSstats_output-maxquant-NN-10_1.csv\", header=0, sep=\",\")\n",
    "msstats.dropna(subset=[\"log2FC\", \"adj.pvalue\"], how=\"any\", inplace=True)\n",
    "\n",
    "msstats[\"log2FC\"] = pd.to_numeric(msstats[\"log2FC\"],errors='coerce')\n",
    "\n",
    "positive =  msstats[(abs(msstats[\"log2FC\"]) >1) &(msstats[\"adj.pvalue\"] <0.05) ]\n",
    "negative = msstats[(abs(msstats[\"log2FC\"]) <=1) | (msstats[\"adj.pvalue\"] >=0.05) ]\n",
    "\n",
    "TP = len(positive[positive[\"Protein\"].str.contains(\"YEAST\")])\n",
    "FP = len(positive) - TP\n",
    "\n",
    "FN = len(negative[negative[\"Protein\"].str.contains(\"YEAST\")])\n",
    "TN = len(negative) - FN\n",
    "\n",
    "print(TP)\n",
    "print(FP)\n",
    "print(TN)\n",
    "print(FN)\n",
    "\n",
    "print(\"PPV = %.6f\" % (TP / (TP + FP)))\n",
    "print(\"NPV = %.6f\" % (TN / (TN + FN)))"
   ]
  }
 ],
 "metadata": {
  "kernelspec": {
   "display_name": "douer(base)",
   "language": "python",
   "name": "base"
  },
  "language_info": {
   "codemirror_mode": {
    "name": "ipython",
    "version": 3
   },
   "file_extension": ".py",
   "mimetype": "text/x-python",
   "name": "python",
   "nbconvert_exporter": "python",
   "pygments_lexer": "ipython3",
   "version": "3.7.6"
  }
 },
 "nbformat": 4,
 "nbformat_minor": 4
}
