{
 "cells": [
  {
   "cell_type": "code",
   "execution_count": 6,
   "metadata": {},
   "outputs": [],
   "source": [
    "import pandas as pd"
   ]
  },
  {
   "cell_type": "code",
   "execution_count": null,
   "metadata": {},
   "outputs": [],
   "source": []
  },
  {
   "cell_type": "code",
   "execution_count": 7,
   "metadata": {},
   "outputs": [
    {
     "name": "stdout",
     "output_type": "stream",
     "text": [
      "38\n",
      "3\n",
      "1785\n",
      "0\n",
      "PPV = 0.926829\n",
      "NPV = 1.000000\n"
     ]
    }
   ],
   "source": [
    "eatomics_imputation_perseus_like1 = pd.read_excel(\"./eatomics_imputation_perseus_like.xlsx\", header=0, sheet_name=\"Upregulated.Proteins\")\n",
    "eatomics_imputation_perseus_like2 = pd.read_excel(\"./eatomics_imputation_perseus_like.xlsx\", header=0, sheet_name=\"Downregulated.Proteins\")\n",
    "eatomics_imputation_perseus_like = pd.concat([eatomics_imputation_perseus_like1,eatomics_imputation_perseus_like2],  ignore_index = True)\n",
    "\n",
    "eatomics_imputation_perseus_like.dropna(subset=[\"adj.P.Val\", \"logFC\"], how=\"any\", inplace=True)\n",
    "positive =  eatomics_imputation_perseus_like[(abs(eatomics_imputation_perseus_like[\"logFC\"]) >1) &(eatomics_imputation_perseus_like[\"adj.P.Val\"] <0.05) ]\n",
    "negative = eatomics_imputation_perseus_like[(abs(eatomics_imputation_perseus_like[\"logFC\"]) <=1) | (eatomics_imputation_perseus_like[\"adj.P.Val\"] >=0.05) ]\n",
    "\n",
    "no_difference_ups = [\"P00167\", \"P01133\", \"P02144\", \"P04040\", \"P15559\", \"P62937\", \"P63165\",  \"Q06830\"]\n",
    "\n",
    "difference_ups =  [\"P01579\", \"O76070\", \"P63279\", \"P68871\",\"P01127\", \"P01008\", \"P62988\", \"P10599\", \"P02787\", \"P99999\", \"P12081\", \"P51965\",\"P10636-8\", \n",
    "       \"P01031\", \"P09211\", \"P02788\", \"P41159\", \"O00762\", \"P05413\", \"P00441\", \"P00918\", \"P08758\", \"P00915\", \"P01344\", \"P69905\", \n",
    "        \"P00709\", \"P55957\", \"P08263\", \"P61769\", \"P10145\", \"P16083\", \"P61626\", \"P02741\", \"P06732\",\n",
    "        \"P01375\", \"P06396\", \"P02753\", \"P01112\", \"Q15843\", \"P02768\"]\n",
    "\n",
    "TP = len(positive[positive[\"Majority protein IDs\"].str.contains(\"|\".join(difference_ups))])\n",
    "FP = len(positive) - TP\n",
    "\n",
    "FN = len(negative[negative[\"Majority protein IDs\"].str.contains(\"|\".join(difference_ups))])\n",
    "TN = len(negative) - FN\n",
    "\n",
    "print(TP)\n",
    "print(FP)\n",
    "\n",
    "print(TN)\n",
    "print(FN)\n",
    "\n",
    "print(\"PPV = %.6f\" % (TP / (TP + FP)))\n",
    "print(\"NPV = %.6f\" % (TN / (TN + FN)))"
   ]
  },
  {
   "cell_type": "code",
   "execution_count": 10,
   "metadata": {},
   "outputs": [
    {
     "name": "stdout",
     "output_type": "stream",
     "text": [
      "38\n",
      "3\n",
      "1785\n",
      "0\n",
      "PPV = 0.926829\n",
      "NPV = 1.000000\n"
     ]
    }
   ],
   "source": [
    "eatomics_imputation_perseus_like1 = pd.read_excel(\"./eatomics_imputation_knn.csv\", header=0, sheet_name=\"Upregulated.Proteins\")\n",
    "eatomics_imputation_perseus_like2 = pd.read_excel(\"./eatomics_imputation_knn.csv\", header=0, sheet_name=\"Downregulated.Proteins\")\n",
    "eatomics_imputation_perseus_like = pd.concat([eatomics_imputation_perseus_like1,eatomics_imputation_perseus_like2],  ignore_index = True)\n",
    "\n",
    "\n",
    "eatomics_imputation_perseus_like.dropna(subset=[\"adj.P.Val\", \"logFC\"], how=\"any\", inplace=True)\n",
    "positive =  eatomics_imputation_perseus_like[(abs(eatomics_imputation_perseus_like[\"logFC\"]) >1) &(eatomics_imputation_perseus_like[\"adj.P.Val\"] <0.05) ]\n",
    "negative = eatomics_imputation_perseus_like[(abs(eatomics_imputation_perseus_like[\"logFC\"]) <=1) | (eatomics_imputation_perseus_like[\"adj.P.Val\"] >=0.05) ]\n",
    "\n",
    "no_difference_ups = [\"P00167\", \"P01133\", \"P02144\", \"P04040\", \"P15559\", \"P62937\", \"P63165\",  \"Q06830\"]\n",
    "\n",
    "difference_ups =  [\"P01579\", \"O76070\", \"P63279\", \"P68871\",\"P01127\", \"P01008\", \"P62988\", \"P10599\", \"P02787\", \"P99999\", \"P12081\", \"P51965\",\"P10636-8\", \n",
    "       \"P01031\", \"P09211\", \"P02788\", \"P41159\", \"O00762\", \"P05413\", \"P00441\", \"P00918\", \"P08758\", \"P00915\", \"P01344\", \"P69905\", \n",
    "        \"P00709\", \"P55957\", \"P08263\", \"P61769\", \"P10145\", \"P16083\", \"P61626\", \"P02741\", \"P06732\",\n",
    "        \"P01375\", \"P06396\", \"P02753\", \"P01112\", \"Q15843\", \"P02768\"]\n",
    "\n",
    "TP = len(positive[positive[\"Majority protein IDs\"].str.contains(\"|\".join(difference_ups))])\n",
    "FP = len(positive) - TP\n",
    "\n",
    "FN = len(negative[negative[\"Majority protein IDs\"].str.contains(\"|\".join(difference_ups))])\n",
    "TN = len(negative) - FN\n",
    "\n",
    "print(TP)\n",
    "print(FP)\n",
    "\n",
    "print(TN)\n",
    "print(FN)\n",
    "\n",
    "print(\"PPV = %.6f\" % (TP / (TP + FP)))\n",
    "print(\"NPV = %.6f\" % (TN / (TN + FN)))"
   ]
  },
  {
   "cell_type": "code",
   "execution_count": 11,
   "metadata": {},
   "outputs": [
    {
     "name": "stdout",
     "output_type": "stream",
     "text": [
      "38\n",
      "3\n",
      "1785\n",
      "0\n",
      "PPV = 0.926829\n",
      "NPV = 1.000000\n"
     ]
    }
   ],
   "source": [
    "eatomics_imputation_perseus_like1 = pd.read_excel(\"./eatomics_imputation_QRILC.csv\", header=0, sheet_name=\"Upregulated.Proteins\")\n",
    "eatomics_imputation_perseus_like2 = pd.read_excel(\"./eatomics_imputation_QRILC.csv\", header=0, sheet_name=\"Downregulated.Proteins\")\n",
    "eatomics_imputation_perseus_like = pd.concat([eatomics_imputation_perseus_like1,eatomics_imputation_perseus_like2],  ignore_index = True)\n",
    "\n",
    "eatomics_imputation_perseus_like.dropna(subset=[\"adj.P.Val\", \"logFC\"], how=\"any\", inplace=True)\n",
    "positive =  eatomics_imputation_perseus_like[(abs(eatomics_imputation_perseus_like[\"logFC\"]) >1) &(eatomics_imputation_perseus_like[\"adj.P.Val\"] <0.05) ]\n",
    "negative = eatomics_imputation_perseus_like[(abs(eatomics_imputation_perseus_like[\"logFC\"]) <=1) | (eatomics_imputation_perseus_like[\"adj.P.Val\"] >=0.05) ]\n",
    "\n",
    "no_difference_ups = [\"P00167\", \"P01133\", \"P02144\", \"P04040\", \"P15559\", \"P62937\", \"P63165\",  \"Q06830\"]\n",
    "\n",
    "difference_ups =  [\"P01579\", \"O76070\", \"P63279\", \"P68871\",\"P01127\", \"P01008\", \"P62988\", \"P10599\", \"P02787\", \"P99999\", \"P12081\", \"P51965\",\"P10636-8\", \n",
    "       \"P01031\", \"P09211\", \"P02788\", \"P41159\", \"O00762\", \"P05413\", \"P00441\", \"P00918\", \"P08758\", \"P00915\", \"P01344\", \"P69905\", \n",
    "        \"P00709\", \"P55957\", \"P08263\", \"P61769\", \"P10145\", \"P16083\", \"P61626\", \"P02741\", \"P06732\",\n",
    "        \"P01375\", \"P06396\", \"P02753\", \"P01112\", \"Q15843\", \"P02768\"]\n",
    "\n",
    "TP = len(positive[positive[\"Majority protein IDs\"].str.contains(\"|\".join(difference_ups))])\n",
    "FP = len(positive) - TP\n",
    "\n",
    "FN = len(negative[negative[\"Majority protein IDs\"].str.contains(\"|\".join(difference_ups))])\n",
    "TN = len(negative) - FN\n",
    "\n",
    "print(TP)\n",
    "print(FP)\n",
    "\n",
    "print(TN)\n",
    "print(FN)\n",
    "\n",
    "print(\"PPV = %.6f\" % (TP / (TP + FP)))\n",
    "print(\"NPV = %.6f\" % (TN / (TN + FN)))"
   ]
  },
  {
   "cell_type": "code",
   "execution_count": null,
   "metadata": {},
   "outputs": [],
   "source": []
  }
 ],
 "metadata": {
  "kernelspec": {
   "display_name": "Python 3",
   "language": "python",
   "name": "python3"
  },
  "language_info": {
   "codemirror_mode": {
    "name": "ipython",
    "version": 3
   },
   "file_extension": ".py",
   "mimetype": "text/x-python",
   "name": "python",
   "nbconvert_exporter": "python",
   "pygments_lexer": "ipython3",
   "version": "3.8.3"
  }
 },
 "nbformat": 4,
 "nbformat_minor": 2
}
